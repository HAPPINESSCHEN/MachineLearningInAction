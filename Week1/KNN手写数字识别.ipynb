{
 "cells": [
  {
   "cell_type": "markdown",
   "metadata": {},
   "source": [
    "# KNN手写数字识别\n",
    "## 调包"
   ]
  },
  {
   "cell_type": "code",
   "execution_count": 2,
   "metadata": {},
   "outputs": [],
   "source": [
    "import numpy as np\n",
    "import matplotlib.pyplot as plt\n",
    "%matplotlib inline\n",
    "from KNN import *\n",
    "from os import listdir"
   ]
  },
  {
   "cell_type": "markdown",
   "metadata": {},
   "source": [
    "## 读取数据\n",
    "### 函数img2vector"
   ]
  },
  {
   "cell_type": "code",
   "execution_count": 2,
   "metadata": {
    "collapsed": true
   },
   "outputs": [],
   "source": [
    "def img2vector(filename):\n",
    "    \"\"\"\n",
    "    将图像转化为向量\n",
    "    参数：\n",
    "        filename -- 文件名\n",
    "    返回：\n",
    "        returnVect -- 转化后的向量\n",
    "    \"\"\"\n",
    "    #为转换向量分配空间\n",
    "    returnVect = np.zeros((1, 1024))\n",
    "    #打开文件\n",
    "    fr = open(filename)\n",
    "    #遍历图像的32行\n",
    "    for i in range(32):\n",
    "        #读一行数据\n",
    "        lineStr = fr.readline()\n",
    "        #遍历每行的32列\n",
    "        for j in range(32):\n",
    "            #把每个像素存入向量中\n",
    "            returnVect[0, 32*i+j] = np.int(lineStr[j])\n",
    "    return returnVect"
   ]
  },
  {
   "cell_type": "markdown",
   "metadata": {},
   "source": [
    "## 测试img2vector函数"
   ]
  },
  {
   "cell_type": "code",
   "execution_count": 3,
   "metadata": {},
   "outputs": [
    {
     "name": "stdout",
     "output_type": "stream",
     "text": [
      "digit1 = [ 0.  0.  0.  0.  0.  0.  0.  0.  0.  0.  0.  0.  0.  0.  1.  1.  1.  1.\n",
      "  0.  0.  0.  0.  0.  0.  0.  0.  0.  0.  0.  0.  0.  0.]\n",
      "digts2 = [ 0.  0.  0.  0.  0.  0.  0.  0.  0.  0.  0.  0.  1.  1.  1.  1.  1.  1.\n",
      "  1.  0.  0.  0.  0.  0.  0.  0.  0.  0.  0.  0.  0.  0.]\n"
     ]
    }
   ],
   "source": [
    "testVector = img2vector('testDigits/0_13.txt')\n",
    "print(\"digit1 = {}\".format(testVector[0, 0:32]))\n",
    "print(\"digts2 = {}\".format(testVector[0, 32:64]))"
   ]
  },
  {
   "cell_type": "markdown",
   "metadata": {},
   "source": [
    "## 测试算法：使用k-近邻算法识别手写数字\n",
    "### 手写数字识别系统的测试代码"
   ]
  },
  {
   "cell_type": "code",
   "execution_count": 3,
   "metadata": {
    "collapsed": true
   },
   "outputs": [],
   "source": [
    "def handwritingClassTest():\n",
    "    \"\"\"\n",
    "    手写数字分类测试代码\n",
    "    参数：\n",
    "        无\n",
    "    返回：\n",
    "        无\n",
    "    \"\"\"\n",
    "    #手写数字标签列表\n",
    "    hwLabels = []\n",
    "    #读取‘trainingDigits’目录\n",
    "    trainingFileList = listdir('./trainingDigits')\n",
    "    #得到目录下文件个数\n",
    "    m = len(trainingFileList)\n",
    "    #建立训练矩阵，初始化为全零阵，分配空间\n",
    "    trainingMat = np.zeros((m, 1024))\n",
    "    #遍历所有训练样本文件\n",
    "    for i in range(m):\n",
    "        #文件名\n",
    "        fileNameStr = trainingFileList[i]\n",
    "        #文件名格式为0_1.txt\n",
    "        #去掉.txt拓展名\n",
    "        fileStr = fileNameStr.split('.')[0]\n",
    "        #得到类序号，也就是_前的数字\n",
    "        classNumStr = np.int(fileNameStr.split('_')[0])\n",
    "        #加入标签序列\n",
    "        hwLabels.append(classNumStr)\n",
    "        #转换图像为向量，并存在矩阵对应行中\n",
    "        trainingMat[i, :] = img2vector('./trainingDigits/'+fileNameStr)\n",
    "    #读取‘testDigits’目录\n",
    "    testFileList = listdir('./trainingDigits')\n",
    "    #错误计数\n",
    "    errorCount = 0.0\n",
    "    \n",
    "    #测试样本数\n",
    "    mTest = len(testFileList)\n",
    "    #遍历所有测试文件\n",
    "    for i in range(mTest):\n",
    "        #文件名\n",
    "        fileNameStr = testFileList[i]\n",
    "        #格式同训练样本\n",
    "        #去掉拓展名\n",
    "        fileStr = fileNameStr.split('.')[0]\n",
    "        #得到类序号\n",
    "        classNumStr = np.int(fileStr.split('_')[0])\n",
    "        #被测序列\n",
    "        vectorUnderTest = img2vector('./trainingDigits/'+fileNameStr)\n",
    "        #分类结果\n",
    "        classifierResult = classify0(vectorUnderTest, trainingMat, hwLabels, 3)\n",
    "        #结果太多了，不打印了\n",
    "        #print(\"分类器得到的结果：{}， 真实结果：{}\".format(classifierResult, classNumStr))\n",
    "        #统计错误数\n",
    "        if (classifierResult != classNumStr):\n",
    "            errorCount += 1.0\n",
    "        #打印结果\n",
    "    print(\"\\n错误总数为：{}\".format(errorCount))\n",
    "    print(\"\\n准确率为：{}\".format(1-errorCount/np.float(mTest)))"
   ]
  },
  {
   "cell_type": "markdown",
   "metadata": {},
   "source": [
    "### KNN手写数字识别测试"
   ]
  },
  {
   "cell_type": "code",
   "execution_count": 4,
   "metadata": {},
   "outputs": [
    {
     "name": "stdout",
     "output_type": "stream",
     "text": [
      "\n",
      "错误总数为：23.0\n",
      "\n",
      "准确率为：0.9881075491209927\n"
     ]
    }
   ],
   "source": [
    "handwritingClassTest()"
   ]
  },
  {
   "cell_type": "code",
   "execution_count": null,
   "metadata": {
    "collapsed": true
   },
   "outputs": [],
   "source": []
  }
 ],
 "metadata": {
  "kernelspec": {
   "display_name": "Python 3",
   "language": "python",
   "name": "python3"
  },
  "language_info": {
   "codemirror_mode": {
    "name": "ipython",
    "version": 3
   },
   "file_extension": ".py",
   "mimetype": "text/x-python",
   "name": "python",
   "nbconvert_exporter": "python",
   "pygments_lexer": "ipython3",
   "version": "3.6.1"
  }
 },
 "nbformat": 4,
 "nbformat_minor": 2
}
