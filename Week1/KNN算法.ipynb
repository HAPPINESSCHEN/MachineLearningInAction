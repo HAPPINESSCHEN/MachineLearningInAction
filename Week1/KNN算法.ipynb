{
 "cells": [
  {
   "cell_type": "markdown",
   "metadata": {},
   "source": [
    "# KNN算法\n",
    "## 准备：使用Python导入数据"
   ]
  },
  {
   "cell_type": "code",
   "execution_count": 5,
   "metadata": {
    "collapsed": true
   },
   "outputs": [],
   "source": [
    "import KNN\n",
    "import numpy as np"
   ]
  },
  {
   "cell_type": "code",
   "execution_count": 2,
   "metadata": {},
   "outputs": [
    {
     "name": "stdout",
     "output_type": "stream",
     "text": [
      "group = [[ 1.   1.1]\n",
      " [ 1.   1. ]\n",
      " [ 0.   0. ]\n",
      " [ 0.   0.1]]\n",
      "labels = ['A', 'A', 'B', 'B']\n"
     ]
    }
   ],
   "source": [
    "group, labels = KNN.createDataSet()\n",
    "print(\"group = {}\".format(group))\n",
    "print(\"labels = {}\".format(labels))"
   ]
  },
  {
   "cell_type": "markdown",
   "metadata": {},
   "source": [
    "## 实施KNN算法\n",
    "### k-近邻算法\n",
    "距离计算采用欧氏距离\n",
    "$$d = \\sqrt{(A_{1} - B_{1})^{2} + (A_{2} - B_{2})^{2}}$$"
   ]
  },
  {
   "cell_type": "code",
   "execution_count": 16,
   "metadata": {
    "collapsed": true
   },
   "outputs": [],
   "source": [
    "def classify0(inX, dataSet, labels, k):\n",
    "    \"\"\"\n",
    "    k近邻算法函数，分为三部分：计算距离，选择最近的k个点，排序\n",
    "    参数：\n",
    "        inX -- 需要判断的输入向量\n",
    "        dataSet -- 输入的训练样本\n",
    "        labels -- 标签向量\n",
    "        k -- 近邻点的个数\n",
    "    \"\"\"\n",
    "    #（1）计算距离\n",
    "    #求数据集大小，要求样例垂直排列\n",
    "    dataSetSize = dataSet.shape[0]\n",
    "    #求差矩阵，向量化，一次对所有训练样本求差\n",
    "    #np.tile()相当于MATLAB的repmat，周期延拓矩阵\n",
    "    diffMat = np.tile(inX, (dataSetSize, 1)) - dataSet\n",
    "    #差矩阵平方\n",
    "    sqDiffMat = np.power(diffMat, 2)\n",
    "    #对平方求和，沿水平方向\n",
    "    sqDistances = np.sum(sqDiffMat, axis = 1, keepdims = True)\n",
    "    #再开方\n",
    "    distances = np.sqrt(sqDistances)\n",
    "    #(2)选择距离最小的k个点\n",
    "    #排序用np.argsort()能返回升序排序后的索引\n",
    "    sortedDistIndicies = np.argsort(distances, axis = 0)\n",
    "    #类计数器，是一个Python字典\n",
    "    classCount = {}\n",
    "    #距离最小的点最近，优先找\n",
    "    for i in range(k):\n",
    "        #取得第i近的点的类型\n",
    "        voteIlabel = labels[np.int(sortedDistIndicies[i])]\n",
    "        #该类型计数+1\n",
    "        classCount[voteIlabel] = classCount.get(voteIlabel, 0) + 1\n",
    "    #按照键值从大到小排列类计数器\n",
    "    sortedClassCount = np.array(sorted(classCount, key = lambda x:classCount[x], reverse = True)).tolist()\n",
    "    return sortedClassCount[0]"
   ]
  },
  {
   "cell_type": "markdown",
   "metadata": {},
   "source": [
    "## 用最开始生成的数据小小地测试一下"
   ]
  },
  {
   "cell_type": "code",
   "execution_count": 17,
   "metadata": {},
   "outputs": [
    {
     "data": {
      "text/plain": [
       "'B'"
      ]
     },
     "execution_count": 17,
     "metadata": {},
     "output_type": "execute_result"
    }
   ],
   "source": [
    "classify0([0, 0], group, labels, 3)"
   ]
  },
  {
   "cell_type": "code",
   "execution_count": null,
   "metadata": {
    "collapsed": true
   },
   "outputs": [],
   "source": []
  }
 ],
 "metadata": {
  "kernelspec": {
   "display_name": "Python 3",
   "language": "python",
   "name": "python3"
  },
  "language_info": {
   "codemirror_mode": {
    "name": "ipython",
    "version": 3
   },
   "file_extension": ".py",
   "mimetype": "text/x-python",
   "name": "python",
   "nbconvert_exporter": "python",
   "pygments_lexer": "ipython3",
   "version": "3.6.1"
  }
 },
 "nbformat": 4,
 "nbformat_minor": 2
}
