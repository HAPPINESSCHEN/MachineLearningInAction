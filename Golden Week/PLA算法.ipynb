{
 "cells": [
  {
   "cell_type": "markdown",
   "metadata": {},
   "source": [
    "# Perceptron Learning Algorithm（PLA）算法\n",
    "## 1.调包"
   ]
  },
  {
   "cell_type": "code",
   "execution_count": 1,
   "metadata": {
    "collapsed": true
   },
   "outputs": [],
   "source": [
    "import numpy as np\n",
    "import pandas as pd\n",
    "import matplotlib.pyplot as plt\n",
    "%matplotlib inline"
   ]
  },
  {
   "cell_type": "markdown",
   "metadata": {},
   "source": [
    "## 2.处理线性可分数据集\n",
    "### 2.1.读取并可视化data1.csv"
   ]
  },
  {
   "cell_type": "code",
   "execution_count": 2,
   "metadata": {},
   "outputs": [
    {
     "data": {
      "text/plain": [
       "<matplotlib.legend.Legend at 0x1d5022ed198>"
      ]
     },
     "execution_count": 2,
     "metadata": {},
     "output_type": "execute_result"
    },
    {
     "data": {
      "image/png": "[encoded data removed]",
      "text/plain": [
       "<matplotlib.figure.Figure at 0x1d5022ed1d0>"
      ]
     },
     "metadata": {},
     "output_type": "display_data"
    }
   ],
   "source": [
    "#由于data1中没有表头，所以header = None，默认是有header的\n",
    "data1 = pd.read_csv(\"./data1.csv\", header = None)\n",
    "data1.columns = ['A', 'B', 'labels']\n",
    "#数据中前50个是正例，后50个是反例\n",
    "plt.scatter(data1['A'][0:50], data1['B'][0:50], color = 'g', marker = 'o')\n",
    "plt.scatter(data1['A'][50:], data1['B'][50:], color = 'r', marker = 'x')\n",
    "plt.xlabel('Feature 1')\n",
    "plt.ylabel('Feature 2')\n",
    "plt.title('Visualized data1')\n",
    "plt.legend(('Positive', 'Negative'))"
   ]
  },
  {
   "cell_type": "markdown",
   "metadata": {},
   "source": [
    "### 2.2.提取数据前两列为X，最后一列为Y"
   ]
  },
  {
   "cell_type": "code",
   "execution_count": 45,
   "metadata": {},
   "outputs": [
    {
     "name": "stdout",
     "output_type": "stream",
     "text": [
      "X1.shape = (100, 3), Y1.shape = (100, 1)\n"
     ]
    }
   ],
   "source": [
    "#reshape是为了防止出现类似size=(100，)的零秩矩阵\n",
    "#X第一列为全1，和阈值相乘\n",
    "X1 = np.hstack((np.array(data1['A']).reshape(-1, 1), np.array(data1['B']).reshape(-1, 1)))\n",
    "X1 = np.hstack((np.ones((X1.shape[0], 1)), X1))\n",
    "Y1 = np.array(data1['labels']).reshape(-1, 1)\n",
    "print(\"X1.shape = {}, Y1.shape = {}\".format(X1.shape, Y1.shape))"
   ]
  },
  {
   "cell_type": "markdown",
   "metadata": {},
   "source": [
    "### 2.3.初始化W"
   ]
  },
  {
   "cell_type": "code",
   "execution_count": 46,
   "metadata": {},
   "outputs": [
    {
     "name": "stdout",
     "output_type": "stream",
     "text": [
      "W1.shape = (1, 3)\n"
     ]
    }
   ],
   "source": [
    "def initializeW(numberOfFeatures):\n",
    "    \"\"\"\n",
    "    根据特征数目初始化W为全零向量\n",
    "    参数：\n",
    "        numberOfFeatures -- 特征数\n",
    "    返回：\n",
    "        W -- 初始化后的W\n",
    "    \"\"\"\n",
    "    #W的长度为特征数，定义为行向量\n",
    "    W = np.zeros((1, numberOfFeatures))\n",
    "    return W\n",
    "\n",
    "W1 = initializeW(X1.shape[1])\n",
    "print(\"W1.shape = {}\".format(W1.shape))"
   ]
  },
  {
   "cell_type": "markdown",
   "metadata": {},
   "source": [
    "### 2.4.Cyclic PLA"
   ]
  },
  {
   "cell_type": "code",
   "execution_count": 71,
   "metadata": {
    "collapsed": true
   },
   "outputs": [],
   "source": [
    "def CyclicPLA(X, Y, W, stopLine = 1000):\n",
    "    \"\"\"\n",
    "    Cyclic PLA算法，逐点检查，发现错误分类，立即改正。\n",
    "    直到所有点分类正确或达到停止次数为止\n",
    "    参数：\n",
    "        X -- 点的特征数据集\n",
    "        Y -- 点的标签数据集\n",
    "        W -- 初始化线性参数\n",
    "        stopLine -- 最大循环次数\n",
    "    返回：\n",
    "        W -- 校正后的W\n",
    "        Corrected -- 是否分类正确\n",
    "    \"\"\"\n",
    "    #循环周期\n",
    "    Corrected = False\n",
    "    for epoch in range(stopLine):\n",
    "        #重置错误指标\n",
    "        errorFlag = False\n",
    "        #每个周期内遍历所有点\n",
    "        for t in range(X.shape[0]):\n",
    "            #X，W相乘得到分类结果\n",
    "            classResult = np.dot(W, X[t:t+1, :].T)\n",
    "            #若结果错误\n",
    "            if (np.sign(classResult) != Y[t]):\n",
    "                #修改错误指标\n",
    "                if (False == errorFlag):\n",
    "                    errorFlag = True\n",
    "                #校正W = W + Xt*Yt\n",
    "                W += (X[t:t+1, :] * Y[t])\n",
    "        #如果一个周期内没有错误发生，则表明分类正确，跳出循环即可\n",
    "        if (False == errorFlag):\n",
    "            Corrected = True\n",
    "            break\n",
    "    return W, Corrected"
   ]
  },
  {
   "cell_type": "markdown",
   "metadata": {},
   "source": [
    "### 2.5.训练W"
   ]
  },
  {
   "cell_type": "code",
   "execution_count": 72,
   "metadata": {},
   "outputs": [
    {
     "name": "stdout",
     "output_type": "stream",
     "text": [
      "Corrected? True\n",
      "W1 = [[-2.  -3.5  9.2]]\n",
      "W1.shape = (1, 3)\n"
     ]
    }
   ],
   "source": [
    "W1, Corrected1 = CyclicPLA(X1, Y1, W1)\n",
    "print(\"Corrected? {}\".format(Corrected1))\n",
    "print(\"W1 = {}\".format(W1))\n",
    "print(\"W1.shape = {}\".format(W1.shape))"
   ]
  },
  {
   "cell_type": "markdown",
   "metadata": {},
   "source": [
    "### 2.6.绘制结果"
   ]
  },
  {
   "cell_type": "code",
   "execution_count": 73,
   "metadata": {},
   "outputs": [
    {
     "data": {
      "text/plain": [
       "[<matplotlib.lines.Line2D at 0x1d503ff8eb8>]"
      ]
     },
     "execution_count": 73,
     "metadata": {},
     "output_type": "execute_result"
    },
    {
     "data": {
      "image/png": "[encoded data removed]",
      "text/plain": [
       "<matplotlib.figure.Figure at 0x1d503f784e0>"
      ]
     },
     "metadata": {},
     "output_type": "display_data"
    }
   ],
   "source": [
    "#数据中前50个是正例，后50个是反例\n",
    "plt.scatter(data1['A'][0:50], data1['B'][0:50], color = 'g', marker = 'o')\n",
    "plt.scatter(data1['A'][50:], data1['B'][50:], color = 'r', marker = 'x')\n",
    "plt.xlabel('Feature 1')\n",
    "plt.ylabel('Feature 2')\n",
    "plt.title('Visualized result1')\n",
    "plt.legend(('Positive', 'Negative'))\n",
    "#求x1的范围\n",
    "x1min = np.amin(data1['A'])\n",
    "x1max = np.amax(data1['A'])\n",
    "#画图\n",
    "x1 = np.array([x1min, x1max])\n",
    "x2 = -(x1 * W[0, 1] + W[0, 0]) / W[0, 2]\n",
    "plt.plot(x1, x2)"
   ]
  },
  {
   "cell_type": "markdown",
   "metadata": {},
   "source": [
    "## 3.处理线性不可分数据集\n",
    "### 3.1.读取数据"
   ]
  },
  {
   "cell_type": "code",
   "execution_count": 42,
   "metadata": {
    "collapsed": true
   },
   "outputs": [],
   "source": [
    "data2 = pd.read_csv(\"./data2.csv\", header = None)\n",
    "data2.columns = ['A', 'B', 'labels']"
   ]
  },
  {
   "cell_type": "markdown",
   "metadata": {},
   "source": [
    "### 3.2.可视化data2"
   ]
  },
  {
   "cell_type": "code",
   "execution_count": 43,
   "metadata": {},
   "outputs": [
    {
     "data": {
      "text/plain": [
       "<matplotlib.legend.Legend at 0x1d502be4e48>"
      ]
     },
     "execution_count": 43,
     "metadata": {},
     "output_type": "execute_result"
    },
    {
     "data": {
      "image/png": "[encoded data removed]",
      "text/plain": [
       "<matplotlib.figure.Figure at 0x1d502be4cf8>"
      ]
     },
     "metadata": {},
     "output_type": "display_data"
    }
   ],
   "source": [
    "#数据中前50个是正例，后50个是反例\n",
    "plt.scatter(data2['A'][0:50], data2['B'][0:50], color = 'g', marker = 'o')\n",
    "plt.scatter(data2['A'][50:], data2['B'][50:], color = 'r', marker = 'x')\n",
    "plt.xlabel('Feature 1')\n",
    "plt.ylabel('Feature 2')\n",
    "plt.title('Visualized data2')\n",
    "plt.legend(('Positive', 'Negative'))"
   ]
  },
  {
   "cell_type": "markdown",
   "metadata": {},
   "source": [
    "### 3.3.提取数据"
   ]
  },
  {
   "cell_type": "code",
   "execution_count": 107,
   "metadata": {},
   "outputs": [
    {
     "name": "stdout",
     "output_type": "stream",
     "text": [
      "X2.shape = (100, 3), Y2.shape = (100, 1)\n"
     ]
    }
   ],
   "source": [
    "#reshape是为了防止出现类似size=(100，)的零秩矩阵\n",
    "X2 = np.hstack((np.array(data2['A']).reshape(-1, 1), np.array(data2['B']).reshape(-1, 1)))\n",
    "X2 = np.hstack((np.ones((X2.shape[0], 1)), X2))\n",
    "Y2 = np.array(data1['labels']).reshape(-1, 1)\n",
    "print(\"X2.shape = {}, Y2.shape = {}\".format(X2.shape, Y2.shape))"
   ]
  },
  {
   "cell_type": "markdown",
   "metadata": {},
   "source": [
    "### 3.4.初始化W2"
   ]
  },
  {
   "cell_type": "code",
   "execution_count": 132,
   "metadata": {},
   "outputs": [
    {
     "name": "stdout",
     "output_type": "stream",
     "text": [
      "W2 = [[ 0.  0.  0.]]\n"
     ]
    }
   ],
   "source": [
    "W2 = initializeW(X2.shape[1])\n",
    "print(\"W2 = {}\".format(W2))"
   ]
  },
  {
   "cell_type": "markdown",
   "metadata": {},
   "source": [
    "### 3.5.Packet PLA"
   ]
  },
  {
   "cell_type": "code",
   "execution_count": 136,
   "metadata": {},
   "outputs": [],
   "source": [
    "def CorrectPoint(X, Y, W):\n",
    "    \"\"\"\n",
    "    统计正确分类点数\n",
    "    参数：\n",
    "        X -- 点的特征数据集\n",
    "        Y -- 点的标签数据集\n",
    "        W -- 初始化线性参数\n",
    "    返回：\n",
    "        numberOfPoint -- 正确分类点数\n",
    "    \"\"\"\n",
    "    #计算分类结果\n",
    "    result = np.sign(np.dot(X, W.T))\n",
    "    #统计正确点个数\n",
    "    numberOfPoint = np.sum(result == Y)\n",
    "    return numberOfPoint\n",
    "\n",
    "\n",
    "def PacketPLA(X, Y, W, differGate = 0.01, stopLine = 1000):\n",
    "    \"\"\"\n",
    "    Packet PLA，用于处理非线性可分的数据集\n",
    "    W更新方式和Cyclic PLA相同，但每次更新后应和更新前对比，取错误划分点数少的W\n",
    "    两次更新前后W差异度低于differGate，或迭代次数达到次数限制后，停止迭代\n",
    "    参数：\n",
    "        X -- 点的特征数据集\n",
    "        Y -- 点的标签数据集\n",
    "        W -- 初始化线性参数\n",
    "        differGate -- 差异度门限\n",
    "        stopLine -- 最大循环次数\n",
    "    返回：\n",
    "        W -- 校正后的W\n",
    "        Converged -- 是否收敛\n",
    "    \"\"\"\n",
    "    #收敛标志初始化为否\n",
    "    Converged = False\n",
    "    #循环周期\n",
    "    for epoch in range(stopLine):\n",
    "        #假如收敛了，结束循环\n",
    "        if (Converged):\n",
    "            break\n",
    "        else:\n",
    "            #对于每个数据\n",
    "            for t in range(X.shape[0]):\n",
    "                #计算分类结果\n",
    "                classResult = np.dot(W, X[t:t+1, :].T)\n",
    "                #若分类不正确\n",
    "                if (np.sign(classResult) != Y[t]):\n",
    "                    #执行修正，并存在缓存中\n",
    "                    WCorrected = W + X[t:t+1, :] * Y[t]\n",
    "                    #计算差异度\n",
    "                    difference = np.linalg.norm(W - WCorrected) / (np.linalg.norm(W) + np.linalg.norm(WCorrected))\n",
    "                    #若差异足够小\n",
    "                    if (difference < differGate):\n",
    "                        #标记为收敛\n",
    "                        Converged = True\n",
    "                        break\n",
    "                    #若差异不够小\n",
    "                    else:\n",
    "                        #计算正确分类点个数\n",
    "                        pointPrev = CorrectPoint(X, Y, W)\n",
    "                        pointCorrected = CorrectPoint(X, Y, WCorrected)\n",
    "                        #如果校正的正确点数多，就取校正后的W；反之，W不变\n",
    "                        if (pointPrev <= pointCorrected):\n",
    "                            W = WCorrected\n",
    "                        else: pass\n",
    "                        #print(W)\n",
    "                else:pass\n",
    "    return W, Converged"
   ]
  },
  {
   "cell_type": "markdown",
   "metadata": {},
   "source": [
    "### 3.6.训练W2"
   ]
  },
  {
   "cell_type": "code",
   "execution_count": 147,
   "metadata": {},
   "outputs": [
    {
     "name": "stdout",
     "output_type": "stream",
     "text": [
      "是否正确？False\n",
      "W2 = [[-181.  -153.2  204.2]]\n",
      "正确点个数 = 57\n",
      "是否收敛? False\n",
      "W2 = [[-179.  -140.9  214.4]]\n",
      "正确点个数 = 92\n"
     ]
    }
   ],
   "source": [
    "#先用Cyclic PLA预热100次\n",
    "W2, Corrected2 = CyclicPLA(X2, Y2, W2, stopLine = 100)\n",
    "print(\"是否正确？{}\".format(Corrected2))\n",
    "print(\"W2 = {}\".format(W2))\n",
    "print(\"正确点个数 = {}\".format(CorrectPoint(X2, Y2, W2)))\n",
    "#再用Packet PLA\n",
    "W2, Converged2 = PacketPLA(X2, Y2, W2, stopLine = 50000)\n",
    "print(\"是否收敛? {}\".format(Converged2))\n",
    "print(\"W2 = {}\".format(W2))\n",
    "print(\"正确点个数 = {}\".format(CorrectPoint(X2, Y2, W2)))"
   ]
  },
  {
   "cell_type": "markdown",
   "metadata": {},
   "source": [
    "### 3.7. 绘制结果"
   ]
  },
  {
   "cell_type": "code",
   "execution_count": 148,
   "metadata": {},
   "outputs": [
    {
     "data": {
      "text/plain": [
       "[<matplotlib.lines.Line2D at 0x1d505c6fac8>]"
      ]
     },
     "execution_count": 148,
     "metadata": {},
     "output_type": "execute_result"
    },
    {
     "data": {
      "image/png": "[encoded data removed]",
      "text/plain": [
       "<matplotlib.figure.Figure at 0x1d505b06be0>"
      ]
     },
     "metadata": {},
     "output_type": "display_data"
    }
   ],
   "source": [
    "#数据中前50个是正例，后50个是反例\n",
    "plt.scatter(data2['A'][0:50], data2['B'][0:50], color = 'g', marker = 'o')\n",
    "plt.scatter(data2['A'][50:], data2['B'][50:], color = 'r', marker = 'x')\n",
    "plt.xlabel('Feature 1')\n",
    "plt.ylabel('Feature 2')\n",
    "plt.title('Visualized result2')\n",
    "plt.legend(('Positive', 'Negative'))\n",
    "#求x1的范围\n",
    "x1min = np.amin(data2['A'])\n",
    "x1max = np.amax(data2['A'])\n",
    "#画图\n",
    "x1 = np.array([x1min, x1max])\n",
    "x2 = -(x1 * W2[0, 1] + W2[0, 0]) / W2[0, 2]\n",
    "plt.plot(x1, x2)"
   ]
  }
 ],
 "metadata": {
  "kernelspec": {
   "display_name": "Python 3",
   "language": "python",
   "name": "python3"
  },
  "language_info": {
   "codemirror_mode": {
    "name": "ipython",
    "version": 3
   },
   "file_extension": ".py",
   "mimetype": "text/x-python",
   "name": "python",
   "nbconvert_exporter": "python",
   "pygments_lexer": "ipython3",
   "version": "3.6.1"
  }
 },
 "nbformat": 4,
 "nbformat_minor": 2
}
