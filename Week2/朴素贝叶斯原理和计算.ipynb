{
 "cells": [
  {
   "cell_type": "markdown",
   "metadata": {},
   "source": [
    "# 4.朴素贝叶斯\n",
    "## 调包"
   ]
  },
  {
   "cell_type": "code",
   "execution_count": 1,
   "metadata": {
    "collapsed": true
   },
   "outputs": [],
   "source": [
    "import numpy as np"
   ]
  },
  {
   "cell_type": "markdown",
   "metadata": {},
   "source": [
    "## 4.1. 原理"
   ]
  },
  {
   "cell_type": "markdown",
   "metadata": {},
   "source": [
    "1.目标：求出样本W关于各个类$c_{i}$的后验概率，$p(c_{i}|W)$，以最大该概率的类，预测为W的类\n",
    "\n",
    "2.用贝叶斯公式求该概率：\n",
    "$$p(c_{i}|W)=\\frac{p(W|c_{i})p(c_{i})}{p(W)}$$\n",
    "\n",
    "3.朴素假设：样本间统计独立\n",
    "$$p(W|c_{i})=p(w_{0},w_{1},w_{2},...,w_{n}|c_{i})=p(w_{0}|c_{i})\\cdot p(w_{1}|c_{i})\\cdot p(w_{2}|c_{i})\\cdot ...\\cdot p(w_{n}|c_{i})$$"
   ]
  },
  {
   "cell_type": "markdown",
   "metadata": {},
   "source": [
    "## 4.2.简单的朴素贝叶斯应用\n",
    "### 4.2.1.读取数据"
   ]
  },
  {
   "cell_type": "code",
   "execution_count": 3,
   "metadata": {},
   "outputs": [],
   "source": [
    "dataSet = np.array([[1, 'S'], [1, 'L'], [1, 'M'], [1, 'M'], [1, 'S'], \n",
    "                    [2, 'L'], [2, 'S'], [2, 'S'], [2, 'L'], [2, 'L'], [2, 'M'],\n",
    "                    [3, 'M'], [3, 'L'], [3, 'S'], [3, 'M'], [3, 'M']])\n",
    "labels = np.array([[-1, 1, 1, -1, -1, 1, 1, -1, 1, -1, 1, 1, 1, 1, -1, 1]])"
   ]
  },
  {
   "cell_type": "markdown",
   "metadata": {},
   "source": [
    "### 4.2.2.计算$p(c_{i})$"
   ]
  },
  {
   "cell_type": "code",
   "execution_count": 34,
   "metadata": {},
   "outputs": [
    {
     "name": "stdout",
     "output_type": "stream",
     "text": [
      "p(c = 1) = 0.625\n",
      "p(c = -1) = 0.375\n"
     ]
    }
   ],
   "source": [
    "categorys = set([])\n",
    "pc = {}\n",
    "#统计标签的值\n",
    "for label in labels:\n",
    "    categorys |= set(label)\n",
    "#求各类的概率\n",
    "for category in categorys:\n",
    "    pc[str(category)] = len(labels[labels == np.int(category)]) / labels.shape[1]\n",
    "    print(\"p(c = {}) = {}\".format(np.int(category), pc[str(category)]))"
   ]
  },
  {
   "cell_type": "markdown",
   "metadata": {},
   "source": [
    "### 4.2.3.计算$p(w_{j}|c_{i})$"
   ]
  },
  {
   "cell_type": "code",
   "execution_count": 22,
   "metadata": {},
   "outputs": [
    {
     "name": "stdout",
     "output_type": "stream",
     "text": [
      "{'p(1|1)': 0.20000000000000001, 'p(3|1)': 0.40000000000000002, 'p(2|1)': 0.40000000000000002, 'p(S|1)': 0.20000000000000001, 'p(L|1)': 0.40000000000000002, 'p(M|1)': 0.40000000000000002, 'p(1|-1)': 0.5, 'p(3|-1)': 0.16666666666666666, 'p(2|-1)': 0.33333333333333331, 'p(S|-1)': 0.5, 'p(L|-1)': 0.16666666666666666, 'p(M|-1)': 0.33333333333333331}\n"
     ]
    }
   ],
   "source": [
    "numOfData = dataSet.shape[0]\n",
    "numOfFeat = dataSet.shape[1]\n",
    "features = {}\n",
    "#统计各个特征的所有值\n",
    "for i in range(numOfFeat):\n",
    "    features[\"feature\"+str(i)] = set([])\n",
    "    for m in range(numOfData):\n",
    "        features[\"feature\"+str(i)] |= set(dataSet[m, i])\n",
    "prob = {}\n",
    "#对于每个类\n",
    "for category in categorys:\n",
    "    #对于每种特征\n",
    "    for i in range(numOfFeat):\n",
    "        #对于每种取值\n",
    "        for feature in features[\"feature\"+str(i)]:\n",
    "            prob['p('+str(feature)+'|'+str(category)+')'] = np.sum(dataSet[(labels == np.int(category)).squeeze(), i] == feature) / np.sum(labels == np.int(category))\n",
    "print(prob)"
   ]
  },
  {
   "cell_type": "markdown",
   "metadata": {},
   "source": [
    "### 4.2.4.计算$p(W|c_{i})p(c_{i})$并比较概率的相对大小"
   ]
  },
  {
   "cell_type": "code",
   "execution_count": 43,
   "metadata": {},
   "outputs": [
    {
     "name": "stdout",
     "output_type": "stream",
     "text": [
      "请输入特征 0 = 2\n",
      "请输入特征 1 = S\n",
      "[('-1', 0.0625), ('1', 0.05000000000000001)]\n",
      "最有可能的类为 -1\n"
     ]
    }
   ],
   "source": [
    "resultProb = {}\n",
    "inputFeat = {}\n",
    "for i in range(numOfFeat):\n",
    "    inputFeat['feature'+str(i)] = input('请输入特征 {} = '.format(i))\n",
    "for category in categorys:\n",
    "    pWc = 1\n",
    "    for i in range(numOfFeat):\n",
    "        pWc *= prob['p('+inputFeat['feature'+str(i)]+'|'+str(category)+')']\n",
    "    resultProb[str(category)] = pWc * pc[str(category)]\n",
    "import operator\n",
    "resultProb = sorted(resultProb.items(),key = operator.itemgetter(1), reverse = True)\n",
    "print(resultProb)\n",
    "print(\"最有可能的类为 {}\".format(resultProb[0][0]))"
   ]
  },
  {
   "cell_type": "markdown",
   "metadata": {},
   "source": [
    "当输入特征为（2， S）时，最有可能的分类为 -1"
   ]
  }
 ],
 "metadata": {
  "kernelspec": {
   "display_name": "Python 3",
   "language": "python",
   "name": "python3"
  },
  "language_info": {
   "codemirror_mode": {
    "name": "ipython",
    "version": 3
   },
   "file_extension": ".py",
   "mimetype": "text/x-python",
   "name": "python",
   "nbconvert_exporter": "python",
   "pygments_lexer": "ipython3",
   "version": "3.6.1"
  }
 },
 "nbformat": 4,
 "nbformat_minor": 2
}
